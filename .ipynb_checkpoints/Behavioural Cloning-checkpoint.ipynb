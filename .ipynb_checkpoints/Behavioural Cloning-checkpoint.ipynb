{
 "cells": [
  {
   "cell_type": "code",
   "execution_count": 2,
   "metadata": {
    "colab": {
     "base_uri": "https://localhost:8080/",
     "height": 34
    },
    "colab_type": "code",
    "id": "ugxmcr9jsQ1H",
    "outputId": "f005a072-1b5d-43eb-b9c6-3806363de9ae"
   },
   "outputs": [
    {
     "name": "stderr",
     "output_type": "stream",
     "text": [
      "fatal: could not create work tree dir 'Track-1': No such file or directory\n"
     ]
    }
   ],
   "source": [
    "!git clone https://github.com/Muradkhan0161/Track-1.git"
   ]
  },
  {
   "cell_type": "code",
   "execution_count": 3,
   "metadata": {
    "colab": {
     "base_uri": "https://localhost:8080/",
     "height": 34
    },
    "colab_type": "code",
    "id": "zwmyJj8ts3PG",
    "outputId": "817e5a7b-47c4-46bf-e62b-e7244ba27d44"
   },
   "outputs": [
    {
     "name": "stderr",
     "output_type": "stream",
     "text": [
      "'ls' is not recognized as an internal or external command,\n",
      "operable program or batch file.\n"
     ]
    }
   ],
   "source": [
    "!ls Track-1"
   ]
  },
  {
   "cell_type": "code",
   "execution_count": 4,
   "metadata": {
    "colab": {
     "base_uri": "https://localhost:8080/",
     "height": 340
    },
    "colab_type": "code",
    "id": "CykKZxsUadYW",
    "outputId": "ca5042b1-6c15-4cdd-d227-02f7cd6aee07"
   },
   "outputs": [
    {
     "name": "stderr",
     "output_type": "stream",
     "text": [
      "'pip3' is not recognized as an internal or external command,\n",
      "operable program or batch file.\n"
     ]
    }
   ],
   "source": [
    "!pip3 install imgaug"
   ]
  },
  {
   "cell_type": "code",
   "execution_count": 5,
   "metadata": {
    "colab": {},
    "colab_type": "code",
    "id": "d4Zmgjv_tHBv"
   },
   "outputs": [
    {
     "name": "stderr",
     "output_type": "stream",
     "text": [
      "Using TensorFlow backend.\n"
     ]
    },
    {
     "ename": "ModuleNotFoundError",
     "evalue": "No module named 'imgaug'",
     "output_type": "error",
     "traceback": [
      "\u001b[1;31m---------------------------------------------------------------------------\u001b[0m",
      "\u001b[1;31mModuleNotFoundError\u001b[0m                       Traceback (most recent call last)",
      "\u001b[1;32m<ipython-input-5-7a7f2120cb02>\u001b[0m in \u001b[0;36m<module>\u001b[1;34m\u001b[0m\n\u001b[0;32m      9\u001b[0m \u001b[1;32mfrom\u001b[0m \u001b[0msklearn\u001b[0m\u001b[1;33m.\u001b[0m\u001b[0mutils\u001b[0m \u001b[1;32mimport\u001b[0m \u001b[0mshuffle\u001b[0m\u001b[1;33m\u001b[0m\u001b[1;33m\u001b[0m\u001b[0m\n\u001b[0;32m     10\u001b[0m \u001b[1;32mfrom\u001b[0m \u001b[0msklearn\u001b[0m\u001b[1;33m.\u001b[0m\u001b[0mmodel_selection\u001b[0m \u001b[1;32mimport\u001b[0m \u001b[0mtrain_test_split\u001b[0m\u001b[1;33m\u001b[0m\u001b[1;33m\u001b[0m\u001b[0m\n\u001b[1;32m---> 11\u001b[1;33m \u001b[1;32mfrom\u001b[0m \u001b[0mimgaug\u001b[0m \u001b[1;32mimport\u001b[0m \u001b[0maugmenters\u001b[0m \u001b[1;32mas\u001b[0m \u001b[0miaa\u001b[0m\u001b[1;33m\u001b[0m\u001b[1;33m\u001b[0m\u001b[0m\n\u001b[0m\u001b[0;32m     12\u001b[0m \u001b[1;32mimport\u001b[0m \u001b[0mcv2\u001b[0m\u001b[1;33m\u001b[0m\u001b[1;33m\u001b[0m\u001b[0m\n\u001b[0;32m     13\u001b[0m \u001b[1;32mimport\u001b[0m \u001b[0mpandas\u001b[0m \u001b[1;32mas\u001b[0m \u001b[0mpd\u001b[0m\u001b[1;33m\u001b[0m\u001b[1;33m\u001b[0m\u001b[0m\n",
      "\u001b[1;31mModuleNotFoundError\u001b[0m: No module named 'imgaug'"
     ]
    }
   ],
   "source": [
    "import os\n",
    "import numpy as np\n",
    "import matplotlib.pyplot as plt\n",
    "import matplotlib.image as mpimg\n",
    "import keras\n",
    "from keras.models import Sequential\n",
    "from keras.optimizers import Adam\n",
    "from keras.layers import Convolution2D, MaxPooling2D, Dropout, Flatten, Dense\n",
    "from sklearn.utils import shuffle\n",
    "from sklearn.model_selection import train_test_split\n",
    "from imgaug import augmenters as iaa\n",
    "import cv2\n",
    "import pandas as pd\n",
    "import ntpath\n",
    "import random\n"
   ]
  },
  {
   "cell_type": "code",
   "execution_count": null,
   "metadata": {
    "colab": {
     "base_uri": "https://localhost:8080/",
     "height": 204
    },
    "colab_type": "code",
    "id": "R73j-Vk9ulbO",
    "outputId": "59c7d14b-4074-46ba-a896-776e771ab2d5"
   },
   "outputs": [],
   "source": [
    "datadir = 'Track-1'\n",
    "columns = ['center','left','right','steering','throttle','reverse','speed']\n",
    "data = pd.read_csv(os.path.join(datadir, 'driving_log.csv'), names = columns)\n",
    "data.head()"
   ]
  },
  {
   "cell_type": "code",
   "execution_count": null,
   "metadata": {
    "colab": {
     "base_uri": "https://localhost:8080/",
     "height": 204
    },
    "colab_type": "code",
    "id": "t85KqBhNwms3",
    "outputId": "6e8feced-d2d3-4dc2-a942-86b33792eaa1"
   },
   "outputs": [],
   "source": [
    "def path_leaf(path):\n",
    "  head, tail =ntpath.split(path)\n",
    "  return tail\n",
    "data['center'] = data['center'].apply(path_leaf)\n",
    "data['left'] = data['left'].apply(path_leaf)\n",
    "data['right'] = data['right'].apply(path_leaf)\n",
    "data.head()"
   ]
  },
  {
   "cell_type": "code",
   "execution_count": null,
   "metadata": {
    "colab": {
     "base_uri": "https://localhost:8080/",
     "height": 282
    },
    "colab_type": "code",
    "id": "nAKZO0gzyUSH",
    "outputId": "64ac6d3a-75e1-4329-9376-907aadf61f62"
   },
   "outputs": [],
   "source": [
    "num_bins = 50\n",
    "samples_per_bin = 800\n",
    "hist, bins = np.histogram(data['steering'], num_bins)\n",
    "center = (bins[:-1]+ bins[1:]) * 0.5\n",
    "plt.bar(center, hist, width=0.05)\n",
    "plt.plot((np.min(data['steering']), np.max(data['steering'])), (samples_per_bin, samples_per_bin))"
   ]
  },
  {
   "cell_type": "code",
   "execution_count": null,
   "metadata": {
    "colab": {
     "base_uri": "https://localhost:8080/",
     "height": 333
    },
    "colab_type": "code",
    "id": "nei6AiGB7rJs",
    "outputId": "447f59d7-8ea0-4c85-a7ed-cf683214f4d4"
   },
   "outputs": [],
   "source": [
    "print('total data:', len(data))\n",
    "remove_list = []\n",
    "for j in range(num_bins):\n",
    "  list_ = []\n",
    "  for i in range(len(data['steering'])):\n",
    "    if data['steering'][i] >= bins[j] and data['steering'][i] <= bins[j+1]:\n",
    "      list_.append(i)\n",
    "  list_ = shuffle(list_)\n",
    "  list_ = list_[samples_per_bin:]\n",
    "  remove_list.extend(list_)\n",
    " \n",
    "print('removed:', len(remove_list))\n",
    "data.drop(data.index[remove_list], inplace=True)\n",
    "print('remaining:', len(data))\n",
    "\n",
    "hist, _ = np.histogram(data['steering'], (num_bins))\n",
    "plt.bar(center, hist, width=0.05)\n",
    "plt.plot((np.min(data['steering']), np.max(data['steering'])), (samples_per_bin, samples_per_bin))\n"
   ]
  },
  {
   "cell_type": "code",
   "execution_count": null,
   "metadata": {
    "colab": {
     "base_uri": "https://localhost:8080/",
     "height": 153
    },
    "colab_type": "code",
    "id": "fBmzCTUDCS45",
    "outputId": "b08685e7-2040-415d-f1e3-5cc9611efe90"
   },
   "outputs": [],
   "source": [
    "print(data.iloc[1])\n",
    "def load_img_steering(datadir, df):\n",
    "  image_path = []\n",
    "  steering = []\n",
    "  for i in range(len(data)):\n",
    "    indexed_data = data.iloc[i]\n",
    "    center, left, right = indexed_data[0], indexed_data[1], indexed_data[2]\n",
    "    image_path.append(os.path.join(datadir, center.strip()))\n",
    "    steering.append(float(indexed_data[3]))\n",
    "    # left image append\n",
    "    image_path.append(os.path.join(datadir,left.strip()))\n",
    "    steering.append(float(indexed_data[3])+0.15)\n",
    "    # right image append\n",
    "    image_path.append(os.path.join(datadir,right.strip()))\n",
    "    steering.append(float(indexed_data[3])-0.15)\n",
    "  image_paths = np.asarray(image_path)\n",
    "  steerings = np.asarray(steering)\n",
    "  return image_paths, steerings"
   ]
  },
  {
   "cell_type": "code",
   "execution_count": null,
   "metadata": {
    "colab": {},
    "colab_type": "code",
    "id": "6bu2pL504VTF"
   },
   "outputs": [],
   "source": [
    "\n",
    "image_paths, steerings = load_img_steering(datadir + '/IMG', data)"
   ]
  },
  {
   "cell_type": "code",
   "execution_count": null,
   "metadata": {
    "colab": {
     "base_uri": "https://localhost:8080/",
     "height": 51
    },
    "colab_type": "code",
    "id": "RIrphrtmKfic",
    "outputId": "5dcb8b90-0322-4ab3-bbf3-db191a8ab821"
   },
   "outputs": [],
   "source": [
    "X_train, X_valid, y_train, y_valid = train_test_split(image_paths, steerings, test_size=0.2, random_state=6)\n",
    "print('Training Samples: {}\\nValid Samples: {}'.format(len(X_train), len(X_valid)))"
   ]
  },
  {
   "cell_type": "code",
   "execution_count": null,
   "metadata": {
    "colab": {
     "base_uri": "https://localhost:8080/",
     "height": 298
    },
    "colab_type": "code",
    "id": "T1OjepEKKmJo",
    "outputId": "a6d0c890-02e0-4024-9d8f-4dd4f6208c93"
   },
   "outputs": [],
   "source": [
    "fig, axes = plt.subplots(1, 2, figsize=(12, 4))\n",
    "axes[0].hist(y_train, bins=num_bins, width=0.05, color='blue')\n",
    "axes[0].set_title('Training set')\n",
    "axes[1].hist(y_valid, bins=num_bins, width=0.05, color='red')\n",
    "axes[1].set_title('Validation set')"
   ]
  },
  {
   "cell_type": "code",
   "execution_count": null,
   "metadata": {
    "colab": {},
    "colab_type": "code",
    "id": "QyG50qpNauKt"
   },
   "outputs": [],
   "source": [
    "def zoom(image):\n",
    "  zoom = iaa.Affine(scale=(1, 1.3))\n",
    "  image = zoom.augment_image(image)\n",
    "  return image"
   ]
  },
  {
   "cell_type": "code",
   "execution_count": null,
   "metadata": {
    "colab": {
     "base_uri": "https://localhost:8080/",
     "height": 327
    },
    "colab_type": "code",
    "id": "TwiEsAuua20c",
    "outputId": "f5395fcc-32a2-45e9-ed4a-445191a76d91"
   },
   "outputs": [],
   "source": [
    "image = image_paths[random.randint(0, 1000)]\n",
    "original_image = mpimg.imread(image)\n",
    "zoomed_image = zoom(original_image)\n",
    "\n",
    "fig, axs = plt.subplots(1, 2, figsize=(15, 10))\n",
    "fig.tight_layout()\n",
    "\n",
    "axs[0].imshow(original_image)\n",
    "axs[0].set_title('Original Image')\n",
    "\n",
    "axs[1].imshow(zoomed_image)\n",
    "axs[1].set_title('Zoomed Image')\n"
   ]
  },
  {
   "cell_type": "code",
   "execution_count": null,
   "metadata": {
    "colab": {
     "base_uri": "https://localhost:8080/",
     "height": 327
    },
    "colab_type": "code",
    "id": "3TdjgmF-d44Y",
    "outputId": "bd4f34f4-8987-4039-a7d0-4cd36ec71dac"
   },
   "outputs": [],
   "source": [
    "def pan(image):\n",
    "  pan = iaa.Affine(translate_percent= {\"x\" : (-0.1, 0.1), \"y\": (-0.1, 0.1)})\n",
    "  image = pan.augment_image(image)\n",
    "  return image\n",
    "image = image_paths[random.randint(0, 1000)]\n",
    "original_image = mpimg.imread(image)\n",
    "panned_image = pan(original_image)\n",
    "\n",
    "fig, axs = plt.subplots(1, 2, figsize=(15, 10))\n",
    "fig.tight_layout()\n",
    "\n",
    "axs[0].imshow(original_image)\n",
    "axs[0].set_title('Original Image')\n",
    "\n",
    "axs[1].imshow(panned_image)\n",
    "axs[1].set_title('Panned Image')"
   ]
  },
  {
   "cell_type": "code",
   "execution_count": null,
   "metadata": {
    "colab": {
     "base_uri": "https://localhost:8080/",
     "height": 327
    },
    "colab_type": "code",
    "id": "SfgJdYxZd9ML",
    "outputId": "ba23d1f2-3b41-472c-ecca-31b073162f71"
   },
   "outputs": [],
   "source": [
    "def img_random_brightness(image):\n",
    "    brightness = iaa.Multiply((0.2, 1.2))\n",
    "    image = brightness.augment_image(image)\n",
    "    return image\n",
    "image = image_paths[random.randint(0, 1000)]\n",
    "original_image = mpimg.imread(image)\n",
    "brightness_altered_image = img_random_brightness(original_image)\n",
    "\n",
    "fig, axs = plt.subplots(1, 2, figsize=(15, 10))\n",
    "fig.tight_layout()\n",
    "\n",
    "axs[0].imshow(original_image)\n",
    "axs[0].set_title('Original Image')\n",
    "\n",
    "axs[1].imshow(brightness_altered_image)\n",
    "axs[1].set_title('Brightness altered image ')"
   ]
  },
  {
   "cell_type": "code",
   "execution_count": null,
   "metadata": {
    "colab": {},
    "colab_type": "code",
    "id": "bw1x4FezeAmc"
   },
   "outputs": [],
   "source": [
    "def img_random_flip(image, steering_angle):\n",
    "    image = cv2.flip(image,1)\n",
    "    steering_angle = -steering_angle\n",
    "    return image, steering_angle\n",
    "random_index = random.randint(0, 1000)\n",
    "image = image_paths[random_index]\n",
    "steering_angle = steerings[random_index]\n",
    "\n"
   ]
  },
  {
   "cell_type": "code",
   "execution_count": null,
   "metadata": {
    "colab": {
     "base_uri": "https://localhost:8080/",
     "height": 327
    },
    "colab_type": "code",
    "id": "xFRvRogDa6J8",
    "outputId": "44e6c9e4-7b57-40f4-adf4-c32c0471b8cb"
   },
   "outputs": [],
   "source": [
    "\n",
    "original_image = mpimg.imread(image)\n",
    "flipped_image, flipped_steering_angle = img_random_flip(original_image, steering_angle)\n",
    "\n",
    "fig, axs = plt.subplots(1, 2, figsize=(15, 10))\n",
    "fig.tight_layout()\n",
    "\n",
    "axs[0].imshow(original_image)\n",
    "axs[0].set_title('Original Image - ' + 'Steering Angle:' + str(steering_angle))\n",
    "\n",
    "axs[1].imshow(flipped_image)\n",
    "axs[1].set_title('Flipped Image - ' + 'Steering Angle:' + str(flipped_steering_angle))"
   ]
  },
  {
   "cell_type": "code",
   "execution_count": null,
   "metadata": {
    "colab": {},
    "colab_type": "code",
    "id": "4J_NSXHbeQxb"
   },
   "outputs": [],
   "source": [
    "def random_augment(image, steering_angle):\n",
    "    image = mpimg.imread(image)\n",
    "    if np.random.rand() < 0.5:\n",
    "      image = pan(image)\n",
    "    if np.random.rand() < 0.5:\n",
    "      image = zoom(image)\n",
    "    if np.random.rand() < 0.5:\n",
    "      image = img_random_brightness(image)\n",
    "    if np.random.rand() < 0.5:\n",
    "      image, steering_angle = img_random_flip(image, steering_angle)\n",
    "    \n",
    "    return image, steering_angle"
   ]
  },
  {
   "cell_type": "code",
   "execution_count": null,
   "metadata": {
    "colab": {
     "base_uri": "https://localhost:8080/",
     "height": 1000
    },
    "colab_type": "code",
    "id": "848vDHjieju7",
    "outputId": "4a56cf85-08aa-4ab6-cfd3-dcc9a4a05678"
   },
   "outputs": [],
   "source": [
    "ncol = 2\n",
    "nrow = 10\n",
    "\n",
    "fig, axs = plt.subplots(nrow, ncol, figsize=(15, 50))\n",
    "fig.tight_layout()\n",
    "\n",
    "for i in range(10):\n",
    "  randnum = random.randint(0, len(image_paths) - 1)\n",
    "  random_image = image_paths[randnum]\n",
    "  random_steering = steerings[randnum]\n",
    "    \n",
    "  original_image = mpimg.imread(random_image)\n",
    "  augmented_image, steering = random_augment(random_image, random_steering)\n",
    "    \n",
    "  axs[i][0].imshow(original_image)\n",
    "  axs[i][0].set_title(\"Original Image\")\n",
    "  \n",
    "  axs[i][1].imshow(augmented_image)\n",
    "  axs[i][1].set_title(\"Augmented Image\")"
   ]
  },
  {
   "cell_type": "code",
   "execution_count": null,
   "metadata": {
    "colab": {},
    "colab_type": "code",
    "id": "kYH_72M9Lnxh"
   },
   "outputs": [],
   "source": []
  },
  {
   "cell_type": "code",
   "execution_count": null,
   "metadata": {
    "colab": {
     "base_uri": "https://localhost:8080/",
     "height": 327
    },
    "colab_type": "code",
    "id": "KgMOqBW6P5K2",
    "outputId": "19ec2d86-122c-4d54-d912-ebdb20b73677"
   },
   "outputs": [],
   "source": []
  },
  {
   "cell_type": "code",
   "execution_count": null,
   "metadata": {
    "colab": {},
    "colab_type": "code",
    "id": "7K6K9zWPbpYp"
   },
   "outputs": [],
   "source": []
  },
  {
   "cell_type": "code",
   "execution_count": null,
   "metadata": {
    "colab": {
     "base_uri": "https://localhost:8080/",
     "height": 244
    },
    "colab_type": "code",
    "id": "GvsRCExZcrBc",
    "outputId": "b1e0b4c4-279c-4884-807c-fc180b6d09d9"
   },
   "outputs": [],
   "source": []
  },
  {
   "cell_type": "code",
   "execution_count": null,
   "metadata": {
    "colab": {},
    "colab_type": "code",
    "id": "3oq1WAK4cwJL"
   },
   "outputs": [],
   "source": []
  },
  {
   "cell_type": "code",
   "execution_count": null,
   "metadata": {
    "colab": {},
    "colab_type": "code",
    "id": "M7RJKx6JP-C6"
   },
   "outputs": [],
   "source": []
  },
  {
   "cell_type": "code",
   "execution_count": null,
   "metadata": {
    "colab": {
     "base_uri": "https://localhost:8080/",
     "height": 680
    },
    "colab_type": "code",
    "id": "p-oZ0eA2VuRx",
    "outputId": "a35779c7-871a-4664-9d33-e8d40ce89617"
   },
   "outputs": [],
   "source": []
  },
  {
   "cell_type": "code",
   "execution_count": null,
   "metadata": {
    "colab": {
     "base_uri": "https://localhost:8080/",
     "height": 652
    },
    "colab_type": "code",
    "id": "nFGE8IW_YmmI",
    "outputId": "fcda84e5-d8a9-42f3-d20f-9a6d76d9c706"
   },
   "outputs": [],
   "source": []
  },
  {
   "cell_type": "code",
   "execution_count": null,
   "metadata": {
    "colab": {},
    "colab_type": "code",
    "id": "AWzqUgk9reaq"
   },
   "outputs": [],
   "source": [
    "\n"
   ]
  },
  {
   "cell_type": "code",
   "execution_count": null,
   "metadata": {
    "colab": {
     "base_uri": "https://localhost:8080/",
     "height": 323
    },
    "colab_type": "code",
    "id": "sBqeyzxPspiD",
    "outputId": "f9175638-c4f0-471c-93bd-84e1f5921f73"
   },
   "outputs": [],
   "source": []
  },
  {
   "cell_type": "code",
   "execution_count": null,
   "metadata": {
    "colab": {},
    "colab_type": "code",
    "id": "1-nJwP68YoRV"
   },
   "outputs": [],
   "source": []
  },
  {
   "cell_type": "code",
   "execution_count": null,
   "metadata": {},
   "outputs": [],
   "source": []
  },
  {
   "cell_type": "code",
   "execution_count": null,
   "metadata": {},
   "outputs": [],
   "source": []
  },
  {
   "cell_type": "code",
   "execution_count": null,
   "metadata": {},
   "outputs": [],
   "source": []
  },
  {
   "cell_type": "code",
   "execution_count": null,
   "metadata": {},
   "outputs": [],
   "source": []
  },
  {
   "cell_type": "code",
   "execution_count": null,
   "metadata": {},
   "outputs": [],
   "source": []
  },
  {
   "cell_type": "code",
   "execution_count": null,
   "metadata": {},
   "outputs": [],
   "source": []
  },
  {
   "cell_type": "code",
   "execution_count": null,
   "metadata": {},
   "outputs": [],
   "source": []
  },
  {
   "cell_type": "code",
   "execution_count": null,
   "metadata": {},
   "outputs": [],
   "source": []
  },
  {
   "cell_type": "code",
   "execution_count": null,
   "metadata": {},
   "outputs": [],
   "source": []
  },
  {
   "cell_type": "code",
   "execution_count": null,
   "metadata": {},
   "outputs": [],
   "source": []
  },
  {
   "cell_type": "code",
   "execution_count": null,
   "metadata": {},
   "outputs": [],
   "source": []
  },
  {
   "cell_type": "code",
   "execution_count": null,
   "metadata": {},
   "outputs": [],
   "source": []
  },
  {
   "cell_type": "code",
   "execution_count": null,
   "metadata": {},
   "outputs": [],
   "source": []
  },
  {
   "cell_type": "code",
   "execution_count": null,
   "metadata": {},
   "outputs": [],
   "source": []
  },
  {
   "cell_type": "code",
   "execution_count": null,
   "metadata": {},
   "outputs": [],
   "source": []
  },
  {
   "cell_type": "code",
   "execution_count": null,
   "metadata": {},
   "outputs": [],
   "source": []
  },
  {
   "cell_type": "code",
   "execution_count": null,
   "metadata": {},
   "outputs": [],
   "source": []
  },
  {
   "cell_type": "code",
   "execution_count": null,
   "metadata": {},
   "outputs": [],
   "source": []
  },
  {
   "cell_type": "code",
   "execution_count": null,
   "metadata": {},
   "outputs": [],
   "source": []
  }
 ],
 "metadata": {
  "accelerator": "GPU",
  "colab": {
   "collapsed_sections": [],
   "name": "Behavioural Cloning.ipynb",
   "provenance": []
  },
  "kernelspec": {
   "display_name": "Python 3",
   "language": "python",
   "name": "python3"
  },
  "language_info": {
   "codemirror_mode": {
    "name": "ipython",
    "version": 3
   },
   "file_extension": ".py",
   "mimetype": "text/x-python",
   "name": "python",
   "nbconvert_exporter": "python",
   "pygments_lexer": "ipython3",
   "version": "3.7.3"
  }
 },
 "nbformat": 4,
 "nbformat_minor": 4
}
